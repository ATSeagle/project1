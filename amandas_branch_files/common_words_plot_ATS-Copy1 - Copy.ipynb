{
 "cells": [
  {
   "cell_type": "code",
   "execution_count": null,
   "metadata": {},
   "outputs": [],
   "source": []
  },
  {
   "cell_type": "code",
   "execution_count": 14,
   "metadata": {},
   "outputs": [
    {
     "name": "stdout",
     "output_type": "stream",
     "text": [
      "'know' :  184\n",
      "'love' :  177\n",
      "i'm :  176\n",
      "'bridge' :  161\n",
      "'like' :  152\n",
      "'see' :  128\n",
      "'time' :  123\n",
      "'say' :  118\n",
      "'one' :  117\n",
      "'never' :  113\n",
      "'make' :  111\n",
      "'oh' :  107\n",
      "'go' :  107\n",
      "'take' :  106\n",
      "'got' :  105\n",
      "i'll :  98\n",
      "'get' :  90\n",
      "i've :  90\n",
      "'heart' :  89\n",
      "can't :  89\n"
     ]
    },
    {
     "data": {
      "text/plain": [
       "<matplotlib.axes._subplots.AxesSubplot at 0x1cee853ca08>"
      ]
     },
     "execution_count": 14,
     "metadata": {},
     "output_type": "execute_result"
    },
    {
     "data": {
      "image/png": "[encoded data removed]",
      "text/plain": [
       "<Figure size 432x288 with 1 Axes>"
      ]
     },
     "metadata": {
      "needs_background": "light"
     },
     "output_type": "display_data"
    }
   ],
   "source": [
    "import collections\n",
    "import pandas as pd\n",
    "import matplotlib.pyplot as plt\n",
    "%matplotlib inline\n",
    "# read csv\n",
    "file = open('../2000s_lyrics', encoding=\"utf8\")\n",
    "a= file.read()\n",
    "\n",
    "# Stopwords\n",
    "# stopwords = set(line.strip() for line in open('stopwords.txt'))\n",
    "# stopwords = stopwords.union(set(['mr','mrs','one','two','said']))\n",
    "\n",
    "# Create an empty dictionary to store word counts\n",
    "wordcount = {}\n",
    "\n",
    "# To eliminate duplicates, remember to split by punctuation, and use case demiliters.\n",
    "for word in a.lower().split():\n",
    "    word = word.replace(\".\",\"\")\n",
    "    word = word.replace(\",\",\"\")\n",
    "    word = word.replace(\":\",\"\")\n",
    "    word = word.replace(\"\\\"\",\"\")\n",
    "    word = word.replace(\"!\",\"\")\n",
    "    word = word.replace(\"â€œ\",\"\")\n",
    "    word = word.replace(\"â€˜\",\"\")\n",
    "    word = word.replace(\"*\",\"\")\n",
    "#     if word not in stopwords\n",
    "\n",
    "    if word not in wordcount:\n",
    "            wordcount[word] = 1\n",
    "            \n",
    "    else:\n",
    "            wordcount[word] += 1\n",
    "# Print most common word\n",
    "n_print = 20\n",
    "# int(input(\"How many most common words to print: \"))\n",
    "# print(\"\\nOK. The {} most common words are as follows\\n\".format(n_print))\n",
    "word_counter = collections.Counter(wordcount)\n",
    "for word, count in word_counter.most_common(n_print):\n",
    "    print(word, \": \", count)\n",
    "# Close the file\n",
    "# file.close()\n",
    "# Create a data frame of the most common words \n",
    "# Draw a bar chart\n",
    "lst = word_counter.most_common(n_print)\n",
    "df = pd.DataFrame(lst, columns = ['Word', 'Count'])\n",
    "df.plot.bar(x='Word',y='Count')"
   ]
  },
  {
   "cell_type": "code",
   "execution_count": 22,
   "metadata": {},
   "outputs": [
    {
     "name": "stdout",
     "output_type": "stream",
     "text": [
      "'love' :  56\n",
      "'know' :  37\n",
      "'bridge' :  32\n",
      "'see' :  27\n",
      "i'm :  27\n",
      "'oh' :  26\n",
      "i'll :  26\n",
      "'like' :  25\n",
      "'say' :  24\n",
      "'want' :  24\n",
      "i've :  23\n",
      "'day' :  21\n",
      "'outro'] :  21\n",
      "'never' :  21\n",
      "can't :  20\n",
      "'go' :  20\n",
      "'heart' :  20\n",
      "'time' :  19\n",
      "'way' :  19\n",
      "'got' :  19\n"
     ]
    },
    {
     "data": {
      "text/plain": [
       "<matplotlib.axes._subplots.AxesSubplot at 0x1cee8b83d48>"
      ]
     },
     "execution_count": 22,
     "metadata": {},
     "output_type": "execute_result"
    },
    {
     "data": {
      "image/png": "[encoded data removed]",
      "text/plain": [
       "<Figure size 432x288 with 1 Axes>"
      ]
     },
     "metadata": {
      "needs_background": "light"
     },
     "output_type": "display_data"
    }
   ],
   "source": [
    "\n",
    "# Read input file, note the encoding is specified here \n",
    "file = open('../60s_lyrics', encoding=\"utf8\")\n",
    "a= file.read()\n",
    "\n",
    "# Stopwords\n",
    "# stopwords = set(line.strip() for line in open('stopwords.txt'))\n",
    "stopwords = ['bridge', 'verse', 'chorus', 'outro]']\n",
    "\n",
    "# stopwords.union(set(['mr','mrs','one','two','said']))\n",
    "\n",
    "# Instantiate a dictionary, and for every word in the file,Add to the dictionary if it doesn't exist. If it does, increase the count.\n",
    "wordcount = {}\n",
    "# To eliminate duplicates, remember to split by punctuation, and use case demiliters.\n",
    "for word in a.lower().split():\n",
    "    word = word.replace(\".\",\"\")\n",
    "    word = word.replace(\",\",\"\")\n",
    "    word = word.replace(\":\",\"\")\n",
    "    word = word.replace(\"\\\"\",\"\")\n",
    "    word = word.replace(\"!\",\"\")\n",
    "    word = word.replace(\"â€œ\",\"\")\n",
    "    word = word.replace(\"â€˜\",\"\")\n",
    "    word = word.replace(\"*\",\"\")\n",
    "    if word not in stopwords:\n",
    "    \n",
    "        if word not in wordcount:\n",
    "            wordcount[word] = 1\n",
    "            \n",
    "        else:\n",
    "            wordcount[word] += 1\n",
    "# Print most common word\n",
    "n_print = 20\n",
    "# int(input(\"How many most common words to print: \"))\n",
    "# print(\"\\nOK. The {} most common words are as follows\\n\".format(n_print))\n",
    "word_counter = collections.Counter(wordcount)\n",
    "for word, count in word_counter.most_common(n_print):\n",
    "    print(word, \": \", count)\n",
    "# Close the file\n",
    "# file.close()\n",
    "# Create a data frame of the most common words \n",
    "# Draw a bar chart\n",
    "lst = word_counter.most_common(n_print)\n",
    "df = pd.DataFrame(lst, columns = ['Word', 'Count'])\n",
    "df.plot.bar(x='Word',y='Count')"
   ]
  },
  {
   "cell_type": "code",
   "execution_count": null,
   "metadata": {},
   "outputs": [],
   "source": []
  }
 ],
 "metadata": {
  "kernelspec": {
   "display_name": "Python 3",
   "language": "python",
   "name": "python3"
  },
  "language_info": {
   "codemirror_mode": {
    "name": "ipython",
    "version": 3
   },
   "file_extension": ".py",
   "mimetype": "text/x-python",
   "name": "python",
   "nbconvert_exporter": "python",
   "pygments_lexer": "ipython3",
   "version": "3.7.4"
  }
 },
 "nbformat": 4,
 "nbformat_minor": 2
}
