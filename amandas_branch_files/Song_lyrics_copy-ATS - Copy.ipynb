{
 "cells": [
  {
   "cell_type": "markdown",
   "metadata": {},
   "source": [
    "### Find instructions here\n",
    "#### https://github.com/johnwmillr/LyricsGenius/blob/master/README.md"
   ]
  },
  {
   "cell_type": "code",
   "execution_count": null,
   "metadata": {
    "scrolled": true
   },
   "outputs": [],
   "source": [
    "# #Install lyrics genius module\n",
    "# !pip install lyricsgenius"
   ]
  },
  {
   "cell_type": "code",
   "execution_count": null,
   "metadata": {},
   "outputs": [],
   "source": [
    "## Natural Language Toolkit (NLTK) is a Python package for natural language processing\n",
    "## Install nltk module (for info: https://www.nltk.org/data.html) *takes a while to download*\n",
    "!pip install nltk"
   ]
  },
  {
   "cell_type": "code",
   "execution_count": 1,
   "metadata": {},
   "outputs": [
    {
     "name": "stderr",
     "output_type": "stream",
     "text": [
      "[nltk_data] Downloading package stopwords to\n",
      "[nltk_data]     C:\\Users\\17736\\AppData\\Roaming\\nltk_data...\n",
      "[nltk_data]   Package stopwords is already up-to-date!\n"
     ]
    },
    {
     "data": {
      "text/plain": [
       "True"
      ]
     },
     "execution_count": 1,
     "metadata": {},
     "output_type": "execute_result"
    }
   ],
   "source": [
    "#Import module and config with token\n",
    "\n",
    "#for API calls\n",
    "import requests\n",
    "import pandas as pd\n",
    "from pprint import pprint\n",
    "\n",
    "#for genius.com\n",
    "import lyricsgenius\n",
    "from config import genius_token\n",
    "genius = lyricsgenius.Genius(genius_token)\n",
    "\n",
    "#for nlkt (remove stop words)    ---> all available datasets/models:CORPORA: http://www.nltk.org/nltk_data/\n",
    "import nltk\n",
    "nltk.download(\"stopwords\")   #can install the “popular” subset of NLTK data, stopwords is included\n",
    "\n",
    "\n",
    "# from nltk.corpus import stopwords \n",
    "# from nltk.tokenize import word_tokenize "
   ]
  },
  {
   "cell_type": "code",
   "execution_count": null,
   "metadata": {
    "scrolled": true
   },
   "outputs": [],
   "source": [
    "##RUN WHEN LIST OF SONGS IS AVAILABLE\n",
    "\n",
    "# #Open file with songs from top populated eras\n",
    "\n",
    "# #Add a new column to populate with lyrics\n",
    "# song_by_era_df[\"Lyrics\"]=\"\"\n",
    "# song_by_era_df"
   ]
  },
  {
   "cell_type": "code",
   "execution_count": null,
   "metadata": {
    "scrolled": true
   },
   "outputs": [],
   "source": [
    "##RUN WHEN LIST OF SONGS IS AVAILABLE\n",
    "\n",
    "# #Search lyrics for song_by_era:\n",
    "\n",
    "# for index, row in song_by_era.iterrows():\n",
    "#     title=row[\"Song Name\"]\n",
    "#     artist=row[\"Artist\"]\n",
    "#     print(f'Retrieving lyrics for Index {index}: {title} by {artist}')\n",
    "    \n",
    "#     try:       \n",
    "#         #retrieve lyrics (string)\n",
    "#         song = genius.search_song(title, artist=artist)\n",
    "        \n",
    "#         #populate df with lyrics\n",
    "#         song_by_era_df.loc[index, \"Lyrics\"]= song.lyrics\n",
    "        \n",
    "#     except:\n",
    "#         print(f'----- Missing lyrics for {title} by {artist}')\n",
    "\n",
    "# print(\"FIN\")"
   ]
  },
  {
   "cell_type": "code",
   "execution_count": null,
   "metadata": {},
   "outputs": [],
   "source": [
    "# #check song object attributes obtained through lyricsgenius\n",
    "# dir(song)"
   ]
  },
  {
   "cell_type": "code",
   "execution_count": null,
   "metadata": {},
   "outputs": [],
   "source": [
    "# #Drop weird column created for don't know what reason\n",
    "# songs_df=top_song_df.drop(\"Unnamed: 0\", axis=1)\n",
    "\n",
    "# #Export to csv\n",
    "# songs_df.to_csv(\"csv/top100_year_lyrics.csv\")\n",
    "# songs_df"
   ]
  },
  {
   "cell_type": "code",
   "execution_count": 2,
   "metadata": {},
   "outputs": [
    {
     "data": {
      "text/html": [
       "<div>\n",
       "<style scoped>\n",
       "    .dataframe tbody tr th:only-of-type {\n",
       "        vertical-align: middle;\n",
       "    }\n",
       "\n",
       "    .dataframe tbody tr th {\n",
       "        vertical-align: top;\n",
       "    }\n",
       "\n",
       "    .dataframe thead th {\n",
       "        text-align: right;\n",
       "    }\n",
       "</style>\n",
       "<table border=\"1\" class=\"dataframe\">\n",
       "  <thead>\n",
       "    <tr style=\"text-align: right;\">\n",
       "      <th></th>\n",
       "      <th>Unnamed: 0</th>\n",
       "      <th>Rank</th>\n",
       "      <th>Song Name</th>\n",
       "      <th>Artist</th>\n",
       "      <th>Duration</th>\n",
       "      <th>Album</th>\n",
       "      <th>Lyrics</th>\n",
       "      <th>Year</th>\n",
       "      <th>bins</th>\n",
       "    </tr>\n",
       "  </thead>\n",
       "  <tbody>\n",
       "    <tr>\n",
       "      <td>0</td>\n",
       "      <td>0</td>\n",
       "      <td>2</td>\n",
       "      <td>The Scientist</td>\n",
       "      <td>Coldplay</td>\n",
       "      <td>309</td>\n",
       "      <td>A Rush of Blood to the Head</td>\n",
       "      <td>[Verse 1]\\nCome up to meet you, tell you I'm s...</td>\n",
       "      <td>2002</td>\n",
       "      <td>2000s</td>\n",
       "    </tr>\n",
       "    <tr>\n",
       "      <td>1</td>\n",
       "      <td>1</td>\n",
       "      <td>3</td>\n",
       "      <td>Yellow</td>\n",
       "      <td>Coldplay</td>\n",
       "      <td>267</td>\n",
       "      <td>Parachutes</td>\n",
       "      <td>[Verse 1: Chris Martin]\\nLook at the stars\\nLo...</td>\n",
       "      <td>2000</td>\n",
       "      <td>2000s</td>\n",
       "    </tr>\n",
       "    <tr>\n",
       "      <td>2</td>\n",
       "      <td>2</td>\n",
       "      <td>4</td>\n",
       "      <td>Fix You</td>\n",
       "      <td>Coldplay</td>\n",
       "      <td>294</td>\n",
       "      <td>X&amp;Y</td>\n",
       "      <td>[Verse 1: Chris Martin]\\nWhen you try your bes...</td>\n",
       "      <td>2005</td>\n",
       "      <td>2000s</td>\n",
       "    </tr>\n",
       "    <tr>\n",
       "      <td>3</td>\n",
       "      <td>3</td>\n",
       "      <td>5</td>\n",
       "      <td>Chasing Cars</td>\n",
       "      <td>Snow Patrol</td>\n",
       "      <td>0</td>\n",
       "      <td>Eyes Open</td>\n",
       "      <td>[Verse 1]\\nWe'll do it all\\nEverything\\nOn our...</td>\n",
       "      <td>2006</td>\n",
       "      <td>2000s</td>\n",
       "    </tr>\n",
       "    <tr>\n",
       "      <td>4</td>\n",
       "      <td>4</td>\n",
       "      <td>7</td>\n",
       "      <td>I'm Yours</td>\n",
       "      <td>Jason Mraz</td>\n",
       "      <td>242</td>\n",
       "      <td>I'm Yours</td>\n",
       "      <td>[Verse 1]\\nWell, you done done me, and you bet...</td>\n",
       "      <td>2008</td>\n",
       "      <td>2000s</td>\n",
       "    </tr>\n",
       "    <tr>\n",
       "      <td>...</td>\n",
       "      <td>...</td>\n",
       "      <td>...</td>\n",
       "      <td>...</td>\n",
       "      <td>...</td>\n",
       "      <td>...</td>\n",
       "      <td>...</td>\n",
       "      <td>...</td>\n",
       "      <td>...</td>\n",
       "      <td>...</td>\n",
       "    </tr>\n",
       "    <tr>\n",
       "      <td>1105</td>\n",
       "      <td>1105</td>\n",
       "      <td>992</td>\n",
       "      <td>Hard to Say I'm Sorry</td>\n",
       "      <td>Chicago</td>\n",
       "      <td>232</td>\n",
       "      <td>The Chicago Story</td>\n",
       "      <td>[Verse 1]\\nEverybody needs a little time away\\...</td>\n",
       "      <td>1983</td>\n",
       "      <td>80s</td>\n",
       "    </tr>\n",
       "    <tr>\n",
       "      <td>1106</td>\n",
       "      <td>1106</td>\n",
       "      <td>994</td>\n",
       "      <td>Haunted</td>\n",
       "      <td>Taylor Swift</td>\n",
       "      <td>245</td>\n",
       "      <td>Speak Now</td>\n",
       "      <td>[Verse 1]\\nYou and I walk a fragile line\\nI ha...</td>\n",
       "      <td>2010</td>\n",
       "      <td>2010s</td>\n",
       "    </tr>\n",
       "    <tr>\n",
       "      <td>1107</td>\n",
       "      <td>1107</td>\n",
       "      <td>995</td>\n",
       "      <td>Breakthrough</td>\n",
       "      <td>Modest Mouse</td>\n",
       "      <td>0</td>\n",
       "      <td>This Is a Long Drive for Someone with Nothing ...</td>\n",
       "      <td>[Verse 1]\\nI got one two three four\\nFive, six...</td>\n",
       "      <td>1996</td>\n",
       "      <td>90s</td>\n",
       "    </tr>\n",
       "    <tr>\n",
       "      <td>1108</td>\n",
       "      <td>1108</td>\n",
       "      <td>996</td>\n",
       "      <td>Saturday Night</td>\n",
       "      <td>Misfits</td>\n",
       "      <td>250</td>\n",
       "      <td>Famous Monsters</td>\n",
       "      <td>[Intro]\\nHm, hmm\\nOh oh oh oh oh\\nOh oh oh oh\\...</td>\n",
       "      <td>1999</td>\n",
       "      <td>90s</td>\n",
       "    </tr>\n",
       "    <tr>\n",
       "      <td>1109</td>\n",
       "      <td>1109</td>\n",
       "      <td>997</td>\n",
       "      <td>You Wanted More</td>\n",
       "      <td>Tonic</td>\n",
       "      <td>249</td>\n",
       "      <td>Sugar</td>\n",
       "      <td>[Verse 1]\\nLove is tragic, love is bold\\nYou w...</td>\n",
       "      <td>1999</td>\n",
       "      <td>90s</td>\n",
       "    </tr>\n",
       "  </tbody>\n",
       "</table>\n",
       "<p>1110 rows × 9 columns</p>\n",
       "</div>"
      ],
      "text/plain": [
       "      Unnamed: 0  Rank              Song Name        Artist  Duration  \\\n",
       "0              0     2          The Scientist      Coldplay       309   \n",
       "1              1     3                 Yellow      Coldplay       267   \n",
       "2              2     4                Fix You      Coldplay       294   \n",
       "3              3     5           Chasing Cars   Snow Patrol         0   \n",
       "4              4     7              I'm Yours    Jason Mraz       242   \n",
       "...          ...   ...                    ...           ...       ...   \n",
       "1105        1105   992  Hard to Say I'm Sorry       Chicago       232   \n",
       "1106        1106   994                Haunted  Taylor Swift       245   \n",
       "1107        1107   995           Breakthrough  Modest Mouse         0   \n",
       "1108        1108   996         Saturday Night       Misfits       250   \n",
       "1109        1109   997        You Wanted More         Tonic       249   \n",
       "\n",
       "                                                  Album  \\\n",
       "0                           A Rush of Blood to the Head   \n",
       "1                                            Parachutes   \n",
       "2                                                   X&Y   \n",
       "3                                             Eyes Open   \n",
       "4                                             I'm Yours   \n",
       "...                                                 ...   \n",
       "1105                                  The Chicago Story   \n",
       "1106                                          Speak Now   \n",
       "1107  This Is a Long Drive for Someone with Nothing ...   \n",
       "1108                                    Famous Monsters   \n",
       "1109                                              Sugar   \n",
       "\n",
       "                                                 Lyrics  Year   bins  \n",
       "0     [Verse 1]\\nCome up to meet you, tell you I'm s...  2002  2000s  \n",
       "1     [Verse 1: Chris Martin]\\nLook at the stars\\nLo...  2000  2000s  \n",
       "2     [Verse 1: Chris Martin]\\nWhen you try your bes...  2005  2000s  \n",
       "3     [Verse 1]\\nWe'll do it all\\nEverything\\nOn our...  2006  2000s  \n",
       "4     [Verse 1]\\nWell, you done done me, and you bet...  2008  2000s  \n",
       "...                                                 ...   ...    ...  \n",
       "1105  [Verse 1]\\nEverybody needs a little time away\\...  1983    80s  \n",
       "1106  [Verse 1]\\nYou and I walk a fragile line\\nI ha...  2010  2010s  \n",
       "1107  [Verse 1]\\nI got one two three four\\nFive, six...  1996    90s  \n",
       "1108  [Intro]\\nHm, hmm\\nOh oh oh oh oh\\nOh oh oh oh\\...  1999    90s  \n",
       "1109  [Verse 1]\\nLove is tragic, love is bold\\nYou w...  1999    90s  \n",
       "\n",
       "[1110 rows x 9 columns]"
      ]
     },
     "execution_count": 2,
     "metadata": {},
     "output_type": "execute_result"
    }
   ],
   "source": [
    "name_file=pd.read_csv(\"csv/final_data.csv\")\n",
    "name_file"
   ]
  },
  {
   "cell_type": "code",
   "execution_count": 9,
   "metadata": {},
   "outputs": [],
   "source": [
    "\n",
    "# dependency with punctuation list\n",
    "import string\n",
    "exclude = set(string.punctuation)\n",
    "exclude2 = ['Verse', 'Intro', 'Chorus', 'Hook', '\\n']\n",
    "\n",
    "\n",
    "# create function to remove punctuation\n",
    "def remove_punctuation(x):\n",
    "\n",
    "    try:\n",
    "        x = ''.join(ch for ch in x if ch not in exclude or exclude2)\n",
    "    except:\n",
    "        pass\n",
    "    return x\n",
    "\n",
    "# Apply the function to the DataFrame\n",
    "name_file.Lyrics = name_file.Lyrics.apply(remove_punctuation)\n",
    "\n",
    "name_file.to_csv('csv/cleanish_lyrics.csv')"
   ]
  },
  {
   "cell_type": "code",
   "execution_count": null,
   "metadata": {},
   "outputs": [],
   "source": []
  },
  {
   "cell_type": "code",
   "execution_count": null,
   "metadata": {},
   "outputs": [],
   "source": [
    "# title=\"Believe\"\n",
    "# artist=\"Cher\"\n",
    "# song = genius.search_song(title, artist=artist)\n",
    "# song\n",
    "\n",
    "# song_lyrics=song.lyrics\n",
    "# song_lyrics\n",
    "\n",
    "#Before splitting lyrics into words, remove punctation characters\n",
    "\n",
    "for index, row in name_file.iterrows():\n",
    "    punctuation= [',', '.', ';', ':', '[', ']', '?', '!', '(', ')']\n",
    "    \n",
    "#     try:       \n",
    "#         song = genius.search_song(title, artist=artist)\n",
    "#         top2000_lovesongs_df.loc[index, \"Year\"]= song.year        \n",
    "    name_file.loc[index, \"Lyrics\"] = name_file[\"Lyrics\"].str.replace(punctuation,\"\")\n",
    "    \n",
    "name_file        \n",
    "#     except:\n",
    "#         print(f'----- missing info for {title} by {artist}')\n",
    "\n",
    "# print(\"FIN\")\n",
    "\n",
    "\n",
    "# song_lyrics_clean= song_lyrics\n",
    "\n",
    "# for x in punctuation:\n",
    "#     song_lyrics_clean=song_lyrics_clean.replace(x,\"\")\n",
    "\n",
    "# song_lyrics_clean"
   ]
  },
  {
   "cell_type": "code",
   "execution_count": null,
   "metadata": {},
   "outputs": [],
   "source": [
    "#Split string into list of words\n",
    "words_list= song_lyrics_clean.split() \n",
    "words_list"
   ]
  },
  {
   "cell_type": "code",
   "execution_count": null,
   "metadata": {},
   "outputs": [],
   "source": [
    "#Make df of lowercase words (stop words are all lowercase)\n",
    "words_list_lower=[words_list[x].lower() for x in range(len(words_list))]\n",
    "\n",
    "words_list_lower"
   ]
  },
  {
   "cell_type": "code",
   "execution_count": null,
   "metadata": {},
   "outputs": [],
   "source": [
    "#Remove stop words such as “the”, “a”, “an”, “in” \n",
    "#(for info: https://www.geeksforgeeks.org/removing-stop-words-nltk-python/)\n",
    "stop_words= set(stopwords.words('english')) \n",
    "filtered_1=[k for k in words_list_lower if not k in stop_words]\n",
    "\n",
    "#possible verse number (as strings)\n",
    "numbers=[str(n) for n in range(100)]\n",
    "filtered_2=[k for k in filtered_1 if not k in numbers] \n",
    "\n",
    "#remove song structure words     \n",
    "song_structure_words=[\"intro\", \"verse\"]\n",
    "filtered_lyrics=[k for k in filtered_2 if not k in song_structure_words] \n",
    "\n",
    "\n",
    "filtered_lyrics"
   ]
  },
  {
   "cell_type": "code",
   "execution_count": null,
   "metadata": {},
   "outputs": [],
   "source": [
    "#Create a df for lyrics analysis\n",
    "lyrics_clean_df=pd.DataFrame()\n",
    "\n",
    "#Add song_lyrics_clean to a new dataframe\n",
    "lyrics_clean_df[0]=filtered_lyrics\n",
    "lyrics_clean_df"
   ]
  },
  {
   "cell_type": "code",
   "execution_count": null,
   "metadata": {},
   "outputs": [],
   "source": [
    "#Number of words\n",
    "tot_words=len(lyrics_clean_df[0])\n",
    "tot_words"
   ]
  },
  {
   "cell_type": "code",
   "execution_count": null,
   "metadata": {
    "scrolled": true
   },
   "outputs": [],
   "source": [
    "#Unique words\n",
    "unique_words=lyrics_clean_df[0].unique()\n",
    "unique_words"
   ]
  },
  {
   "cell_type": "code",
   "execution_count": null,
   "metadata": {},
   "outputs": [],
   "source": [
    "#Count of Unique words\n",
    "unique_words_count=lyrics_clean_df[0].value_counts()\n",
    "unique_words_count"
   ]
  }
 ],
 "metadata": {
  "kernelspec": {
   "display_name": "Python 3",
   "language": "python",
   "name": "python3"
  },
  "language_info": {
   "codemirror_mode": {
    "name": "ipython",
    "version": 3
   },
   "file_extension": ".py",
   "mimetype": "text/x-python",
   "name": "python",
   "nbconvert_exporter": "python",
   "pygments_lexer": "ipython3",
   "version": "3.7.4"
  }
 },
 "nbformat": 4,
 "nbformat_minor": 4
}
